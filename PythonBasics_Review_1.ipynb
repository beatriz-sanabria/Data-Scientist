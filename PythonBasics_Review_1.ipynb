{
  "nbformat": 4,
  "nbformat_minor": 0,
  "metadata": {
    "colab": {
      "provenance": []
    },
    "kernelspec": {
      "name": "python3",
      "display_name": "Python 3"
    },
    "language_info": {
      "name": "python"
    }
  },
  "cells": [
    {
      "cell_type": "markdown",
      "source": [
        "# Refuerzo print() y notebooks\n",
        "\n",
        "En los notebooks podemos tener celdas de código y de markdown (texto libre para escribir). El código en un notebook se corre desde arriba. Por otro lado, podemos escribir la variable en una celda de codigo para mostrarla sin necesidad de usar print(), pero por buenas prácticas, conviene usar print()."
      ],
      "metadata": {
        "id": "YC81ryakKK9o"
      }
    },
    {
      "cell_type": "code",
      "source": [
        "variable = \"Hola TripleTen\"\n",
        "variable # Muestra la variable"
      ],
      "metadata": {
        "colab": {
          "base_uri": "https://localhost:8080/",
          "height": 36
        },
        "id": "DouyVFdAKeBI",
        "outputId": "5e1cb803-c6f3-405d-ffa2-a3961481e645"
      },
      "execution_count": 40,
      "outputs": [
        {
          "output_type": "execute_result",
          "data": {
            "text/plain": [
              "'Hola TripleTen'"
            ],
            "application/vnd.google.colaboratory.intrinsic+json": {
              "type": "string"
            }
          },
          "metadata": {},
          "execution_count": 40
        }
      ]
    },
    {
      "cell_type": "code",
      "source": [
        "print(variable) # Tambien muestra la variable pero sin comillas"
      ],
      "metadata": {
        "colab": {
          "base_uri": "https://localhost:8080/"
        },
        "id": "x-EfSfupKjQV",
        "outputId": "4921f3eb-df62-4ace-8310-1b23af243f62"
      },
      "execution_count": 42,
      "outputs": [
        {
          "output_type": "stream",
          "name": "stdout",
          "text": [
            "Hola TripleTen\n"
          ]
        }
      ]
    },
    {
      "cell_type": "markdown",
      "source": [
        "# Refuerzo de declaración de variables\n",
        "\n",
        "Por el momento, nos enfocaremos en los 3 tipos de variables más escenciales en Python.\n",
        "\n",
        "**1. Enteros**: Las variables int, son aquellos números que no tienen decimales, por ejemplo 1.\n",
        "**2. Flotantes**: Son los números decimales, serpados con un punto, por ejemplo, 1.1.\n",
        "**3. Strings**: Son los valores de tipo texto, por ejemplo, \"Hola mundo\". Es muy importante diferenciar que los strings están encapsulados entre comillas. Además, si un número entero está encapsulado entre comillas, por ejemplo, \"1\", este es de tipo string/str y no entero/int."
      ],
      "metadata": {
        "id": "pGkn8esxI5Pu"
      }
    },
    {
      "cell_type": "code",
      "source": [
        "# Detectar el tipo de variable con type\n",
        "x = 1\n",
        "y = 1.1\n",
        "z = \"Hola mundo\"\n",
        "\n",
        "print(type(x))\n",
        "print(type(y))\n",
        "print(type(z))"
      ],
      "metadata": {
        "colab": {
          "base_uri": "https://localhost:8080/"
        },
        "id": "CNks9kSxI8Qk",
        "outputId": "b8caa282-4eba-4525-eafa-3aff35d137ba"
      },
      "execution_count": 35,
      "outputs": [
        {
          "output_type": "stream",
          "name": "stdout",
          "text": [
            "<class 'int'>\n",
            "<class 'float'>\n",
            "<class 'str'>\n"
          ]
        }
      ]
    },
    {
      "cell_type": "code",
      "source": [
        "# Podemos cambiar de str a int con la función int (SOLO PARA NUMEROS ENTEROS)\n",
        "entero = \"1\"\n",
        "print(type(entero)) # Su clase es str\n",
        "print(int(entero)) # Se cambia a entero\n",
        "print(type(int(entero))) # Su nueva clase es int"
      ],
      "metadata": {
        "colab": {
          "base_uri": "https://localhost:8080/"
        },
        "id": "L_I--yU1Jza4",
        "outputId": "612e9345-f527-4002-ddcf-904288fd438b"
      },
      "execution_count": 39,
      "outputs": [
        {
          "output_type": "stream",
          "name": "stdout",
          "text": [
            "<class 'str'>\n",
            "1\n",
            "<class 'int'>\n"
          ]
        }
      ]
    },
    {
      "cell_type": "markdown",
      "source": [
        "# Refuerzo de strings\n",
        "\n",
        "Este notebook resume los conceptos del manejo de strings. Desde como declarar strings, y algunsa funciones que podemos aplicar en ellos."
      ],
      "metadata": {
        "id": "yNL07xsfoAzv"
      }
    },
    {
      "cell_type": "markdown",
      "source": [
        "## 1. Creación de strings\n",
        "\n",
        "💡 Un string es una secuencia de caracteres entre comillas simples ' o dobles \"."
      ],
      "metadata": {
        "id": "7qgPqKW2oGdg"
      }
    },
    {
      "cell_type": "code",
      "execution_count": 27,
      "metadata": {
        "id": "UqlY1ZmRn-RW",
        "colab": {
          "base_uri": "https://localhost:8080/"
        },
        "outputId": "e0782adb-11b5-486b-ff60-2b5d140b9861"
      },
      "outputs": [
        {
          "output_type": "stream",
          "name": "stdout",
          "text": [
            "Hola mundo\n"
          ]
        }
      ],
      "source": [
        "# Para declarar un string lo podemos hacer así\n",
        "texto = \"Hola mundo\"\n",
        "print(texto)"
      ]
    },
    {
      "cell_type": "markdown",
      "source": [
        "## 2. Longitud y acceso a caracteres\n",
        "\n",
        "En Python, la primera posicion corresponde al índice 0. Usar un índice -1 sería para la última posición del texto."
      ],
      "metadata": {
        "id": "svToQZ6BHpk-"
      }
    },
    {
      "cell_type": "code",
      "source": [
        "texto = \"Python\"\n",
        "print(len(texto))   # Longitud → 6\n",
        "print(texto[0])     # Primer carácter → P\n",
        "print(texto[-1])    # Último carácter → n"
      ],
      "metadata": {
        "colab": {
          "base_uri": "https://localhost:8080/"
        },
        "id": "HQ7dAHEvHrr6",
        "outputId": "1facf9da-894f-4e9d-d18c-d90256e6dade"
      },
      "execution_count": 28,
      "outputs": [
        {
          "output_type": "stream",
          "name": "stdout",
          "text": [
            "6\n",
            "P\n",
            "n\n"
          ]
        }
      ]
    },
    {
      "cell_type": "markdown",
      "source": [
        "## 3. Mayúsculas y minúsculas"
      ],
      "metadata": {
        "id": "5YT7fNzkH6jW"
      }
    },
    {
      "cell_type": "code",
      "source": [
        "mensaje = \"aprendiendo python\"\n",
        "print(mensaje.upper())   # Todo en mayúsculas\n",
        "print(mensaje.lower())   # Todo en minúsculas\n",
        "print(mensaje.title())   # Primera letra de cada palabra en mayúscula"
      ],
      "metadata": {
        "colab": {
          "base_uri": "https://localhost:8080/"
        },
        "id": "MC4GvJciH9NC",
        "outputId": "c28623c2-a79a-411e-f4af-8eb22c0e4874"
      },
      "execution_count": 29,
      "outputs": [
        {
          "output_type": "stream",
          "name": "stdout",
          "text": [
            "APRENDIENDO PYTHON\n",
            "aprendiendo python\n",
            "Aprendiendo Python\n"
          ]
        }
      ]
    },
    {
      "cell_type": "markdown",
      "source": [
        "## 4. Quitar espacios\n",
        "\n",
        "Se hace mediante la función de strip()"
      ],
      "metadata": {
        "id": "rq2i8tT5IABx"
      }
    },
    {
      "cell_type": "code",
      "source": [
        "nombre = \"   Ana   \" # Tiene varios espacios\n",
        "print(nombre.strip())   # \"Ana\" (quita espacios al inicio y final)"
      ],
      "metadata": {
        "colab": {
          "base_uri": "https://localhost:8080/"
        },
        "id": "b7-xq6NAIB7l",
        "outputId": "35d21f61-0c53-4c80-e6e8-b42559c73d78"
      },
      "execution_count": 32,
      "outputs": [
        {
          "output_type": "stream",
          "name": "stdout",
          "text": [
            "Ana\n"
          ]
        }
      ]
    },
    {
      "cell_type": "markdown",
      "source": [
        "## 5. Reemplazar texto\n",
        "\n",
        "Se hace mediante la función de replace"
      ],
      "metadata": {
        "id": "uTEHrYuxIGMg"
      }
    },
    {
      "cell_type": "code",
      "source": [
        "frase = \"Me gusta Java\"\n",
        "print(frase.replace(\"Java\", \"Python\"))"
      ],
      "metadata": {
        "id": "CEYe0VtcIIWm"
      },
      "execution_count": null,
      "outputs": []
    },
    {
      "cell_type": "markdown",
      "source": [
        "## 6. Dividir\n",
        "\n",
        "Podemos usar la funcion split() para separar un texto y transformarlo en una lista. split() puede tomar adentro de el un argumento para decirle en base a que separar (puede ser \",\" o \" \", o cualquier otro dependiendo del caso)."
      ],
      "metadata": {
        "id": "5cvfVuVQIRJg"
      }
    },
    {
      "cell_type": "code",
      "source": [
        "frase = \"uno,dos,tres\"\n",
        "lista = frase.split(\",\")       # ['uno', 'dos', 'tres']\n",
        "print(lista)"
      ],
      "metadata": {
        "colab": {
          "base_uri": "https://localhost:8080/"
        },
        "id": "usN28mvfIju4",
        "outputId": "9eeea213-26cd-473a-a9cf-982d9387537a"
      },
      "execution_count": 33,
      "outputs": [
        {
          "output_type": "stream",
          "name": "stdout",
          "text": [
            "['uno', 'dos', 'tres']\n"
          ]
        }
      ]
    },
    {
      "cell_type": "markdown",
      "source": [
        "## 7. Buscar texto\n",
        "\n",
        "Se puede buscar un texto con la función find()"
      ],
      "metadata": {
        "id": "vnQc0CQiIm4v"
      }
    },
    {
      "cell_type": "code",
      "source": [
        "texto = \"Hola mundo\"\n",
        "print(texto.find(\"mundo\"))   # 5 → posición donde empieza\n",
        "print(texto.find(\"Python\"))  # -1 → no encontrado"
      ],
      "metadata": {
        "colab": {
          "base_uri": "https://localhost:8080/"
        },
        "id": "u_QGkImiIsEh",
        "outputId": "bc83c79a-05d3-40eb-bb08-b1b2ca2e40a3"
      },
      "execution_count": 34,
      "outputs": [
        {
          "output_type": "stream",
          "name": "stdout",
          "text": [
            "5\n",
            "-1\n"
          ]
        }
      ]
    },
    {
      "cell_type": "markdown",
      "source": [
        "# Refuerzo de try and except"
      ],
      "metadata": {
        "id": "mAOkOQEW-zQ0"
      }
    },
    {
      "cell_type": "markdown",
      "source": [
        "El objetivo de try and except es probar un código y verificar funcionalidad. Si no funciona el \"try\", entonces, ejecuta el except.\n",
        "\n",
        "**IMPORTANTE**: El try no puede ir sin un except."
      ],
      "metadata": {
        "id": "vO24j0nF_pu_"
      }
    },
    {
      "cell_type": "code",
      "source": [
        "# Ejercicio: Probemos que una entrada del usuario, se puede convertir a entero.\n",
        "# Si es que no se puede, envía un mensaje de error\n",
        "\n",
        "entrada = input(\"Escribe un valor: \") # Input puede tener un texto adentro de él pero no es obligatorio"
      ],
      "metadata": {
        "colab": {
          "base_uri": "https://localhost:8080/"
        },
        "id": "NpfxqSSGAMcM",
        "outputId": "36c14f29-a024-49bd-9a55-5edc1f608c26"
      },
      "execution_count": 25,
      "outputs": [
        {
          "name": "stdout",
          "output_type": "stream",
          "text": [
            "Escribe un valor: 6\n"
          ]
        }
      ]
    },
    {
      "cell_type": "code",
      "source": [
        "try:\n",
        "  # Completar el try\n",
        "  entero = int(entrada) # Probamos que pueda cambiarse a entero\n",
        "  print(\"Convertido: \", entero) # Imprimimos el valor si sí\n",
        "except:\n",
        "  # Completar el except\n",
        "  print(\"Todo salio mal\") # Imprimimos mensaje de error si es que no se puede"
      ],
      "metadata": {
        "colab": {
          "base_uri": "https://localhost:8080/"
        },
        "id": "ROof8Pxy-00_",
        "outputId": "2409a04c-dcf3-46b5-fef4-5bfec9e4a732"
      },
      "execution_count": 26,
      "outputs": [
        {
          "output_type": "stream",
          "name": "stdout",
          "text": [
            "Convertido:  6\n"
          ]
        }
      ]
    }
  ]
}